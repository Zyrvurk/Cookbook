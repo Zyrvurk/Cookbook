{
 "cells": [
  {
   "attachments": {
    "b2f_horiz_b_big.png": {
     "image/png": "[encoded data removed]"
    }
   },
   "cell_type": "markdown",
   "metadata": {},
   "source": [
    "![b2f_horiz_b_big.png](attachment:b2f_horiz_b_big.png)"
   ]
  },
  {
   "cell_type": "markdown",
   "metadata": {},
   "source": [
    "#   The Machine Learning Cookbook"
   ]
  },
  {
   "cell_type": "markdown",
   "metadata": {
    "toc": true
   },
   "source": [
    "<h1>Table of Contents<span class=\"tocSkip\"></span></h1>\n",
    "<div class=\"toc\"><ul class=\"toc-item\"><li><span><a href=\"#Principais-Bibliotecas-a-Utilizar\" data-toc-modified-id=\"Principais-Bibliotecas-a-Utilizar-1\"><span class=\"toc-item-num\">1&nbsp;&nbsp;</span>Principais Bibliotecas a Utilizar</a></span><ul class=\"toc-item\"><li><span><a href=\"#Gerais\" data-toc-modified-id=\"Gerais-1.1\"><span class=\"toc-item-num\">1.1&nbsp;&nbsp;</span>Gerais</a></span></li><li><span><a href=\"#Manipulação-de-Dados\" data-toc-modified-id=\"Manipulação-de-Dados-1.2\"><span class=\"toc-item-num\">1.2&nbsp;&nbsp;</span>Manipulação de Dados</a></span></li><li><span><a href=\"#Visualização-de-Dados\" data-toc-modified-id=\"Visualização-de-Dados-1.3\"><span class=\"toc-item-num\">1.3&nbsp;&nbsp;</span>Visualização de Dados</a></span></li><li><span><a href=\"#Pre-Processing\" data-toc-modified-id=\"Pre-Processing-1.4\"><span class=\"toc-item-num\">1.4&nbsp;&nbsp;</span>Pre Processing</a></span></li><li><span><a href=\"#Algoritmos\" data-toc-modified-id=\"Algoritmos-1.5\"><span class=\"toc-item-num\">1.5&nbsp;&nbsp;</span>Algoritmos</a></span></li></ul></li><li><span><a href=\"#Importação-de-dados\" data-toc-modified-id=\"Importação-de-dados-2\"><span class=\"toc-item-num\">2&nbsp;&nbsp;</span>Importação de dados</a></span><ul class=\"toc-item\"><li><span><a href=\"#Importar-dados-de-um-CSV\" data-toc-modified-id=\"Importar-dados-de-um-CSV-2.1\"><span class=\"toc-item-num\">2.1&nbsp;&nbsp;</span>Importar dados de um CSV</a></span></li><li><span><a href=\"#Importar-CSV-da-Google-Drive-para-Google-Collab\" data-toc-modified-id=\"Importar-CSV-da-Google-Drive-para-Google-Collab-2.2\"><span class=\"toc-item-num\">2.2&nbsp;&nbsp;</span>Importar CSV da Google Drive para Google Collab</a></span></li><li><span><a href=\"#Importar-Dados-do-SQL-Server\" data-toc-modified-id=\"Importar-Dados-do-SQL-Server-2.3\"><span class=\"toc-item-num\">2.3&nbsp;&nbsp;</span>Importar Dados do SQL Server</a></span></li></ul></li><li><span><a href=\"#Analise-Exploratória-dos-Dados-(Pandas)\" data-toc-modified-id=\"Analise-Exploratória-dos-Dados-(Pandas)-3\"><span class=\"toc-item-num\">3&nbsp;&nbsp;</span>Analise Exploratória dos Dados (Pandas)</a></span></li><li><span><a href=\"#Pre-Processing-&amp;-Feature-Engineering\" data-toc-modified-id=\"Pre-Processing-&amp;-Feature-Engineering-4\"><span class=\"toc-item-num\">4&nbsp;&nbsp;</span>Pre Processing &amp; Feature Engineering</a></span><ul class=\"toc-item\"><li><span><a href=\"#Converter-Colunas-para-Float\" data-toc-modified-id=\"Converter-Colunas-para-Float-4.1\"><span class=\"toc-item-num\">4.1&nbsp;&nbsp;</span>Converter Colunas para Float</a></span></li><li><span><a href=\"#Lidar-com-Missing-Values\" data-toc-modified-id=\"Lidar-com-Missing-Values-4.2\"><span class=\"toc-item-num\">4.2&nbsp;&nbsp;</span>Lidar com Missing Values</a></span></li><li><span><a href=\"#Log-Transformation\" data-toc-modified-id=\"Log-Transformation-4.3\"><span class=\"toc-item-num\">4.3&nbsp;&nbsp;</span>Log Transformation</a></span></li><li><span><a href=\"#Square-Transformation\" data-toc-modified-id=\"Square-Transformation-4.4\"><span class=\"toc-item-num\">4.4&nbsp;&nbsp;</span>Square Transformation</a></span></li><li><span><a href=\"#Tratamento-de-Outliers\" data-toc-modified-id=\"Tratamento-de-Outliers-4.5\"><span class=\"toc-item-num\">4.5&nbsp;&nbsp;</span>Tratamento de Outliers</a></span></li><li><span><a href=\"#Gerar-colunas-de-data-do-formato-AAAAMMDD-para-4-colunas-de-Ano,-Mes,-Semana,-Dia-da-Semana\" data-toc-modified-id=\"Gerar-colunas-de-data-do-formato-AAAAMMDD-para-4-colunas-de-Ano,-Mes,-Semana,-Dia-da-Semana-4.6\"><span class=\"toc-item-num\">4.6&nbsp;&nbsp;</span>Gerar colunas de data do formato AAAAMMDD para 4 colunas de Ano, Mes, Semana, Dia da Semana</a></span></li><li><span><a href=\"#One-Hot-Encoding\" data-toc-modified-id=\"One-Hot-Encoding-4.7\"><span class=\"toc-item-num\">4.7&nbsp;&nbsp;</span>One Hot Encoding</a></span></li><li><span><a href=\"#Target-Encoding-(para-colunas-que-geram-elevada-dimensionalidade)\" data-toc-modified-id=\"Target-Encoding-(para-colunas-que-geram-elevada-dimensionalidade)-4.8\"><span class=\"toc-item-num\">4.8&nbsp;&nbsp;</span>Target Encoding (para colunas que geram elevada dimensionalidade)</a></span></li><li><span><a href=\"#Feature-Scaling\" data-toc-modified-id=\"Feature-Scaling-4.9\"><span class=\"toc-item-num\">4.9&nbsp;&nbsp;</span>Feature Scaling</a></span></li></ul></li><li><span><a href=\"#Treinar-Algoritmos\" data-toc-modified-id=\"Treinar-Algoritmos-5\"><span class=\"toc-item-num\">5&nbsp;&nbsp;</span>Treinar Algoritmos</a></span><ul class=\"toc-item\"><li><span><a href=\"#Exemplo-Básico\" data-toc-modified-id=\"Exemplo-Básico-5.1\"><span class=\"toc-item-num\">5.1&nbsp;&nbsp;</span>Exemplo Básico</a></span></li><li><span><a href=\"#Uso-de-Cross-Validation\" data-toc-modified-id=\"Uso-de-Cross-Validation-5.2\"><span class=\"toc-item-num\">5.2&nbsp;&nbsp;</span>Uso de Cross Validation</a></span></li><li><span><a href=\"#Iteração-sobre-vários-algoritmos\" data-toc-modified-id=\"Iteração-sobre-vários-algoritmos-5.3\"><span class=\"toc-item-num\">5.3&nbsp;&nbsp;</span>Iteração sobre vários algoritmos</a></span></li></ul></li><li><span><a href=\"#Deployment-da-Solução\" data-toc-modified-id=\"Deployment-da-Solução-6\"><span class=\"toc-item-num\">6&nbsp;&nbsp;</span>Deployment da Solução</a></span><ul class=\"toc-item\"><li><span><a href=\"#Pickle\" data-toc-modified-id=\"Pickle-6.1\"><span class=\"toc-item-num\">6.1&nbsp;&nbsp;</span>Pickle</a></span></li><li><span><a href=\"#Joblib\" data-toc-modified-id=\"Joblib-6.2\"><span class=\"toc-item-num\">6.2&nbsp;&nbsp;</span>Joblib</a></span></li><li><span><a href=\"#Modelo-Tensorflow-(c/-Flask)\" data-toc-modified-id=\"Modelo-Tensorflow-(c/-Flask)-6.3\"><span class=\"toc-item-num\">6.3&nbsp;&nbsp;</span>Modelo Tensorflow (c/ Flask)</a></span></li><li><span><a href=\"#Gradio\" data-toc-modified-id=\"Gradio-6.4\"><span class=\"toc-item-num\">6.4&nbsp;&nbsp;</span>Gradio</a></span><ul class=\"toc-item\"><li><span><a href=\"#Disponibilização\" data-toc-modified-id=\"Disponibilização-6.4.1\"><span class=\"toc-item-num\">6.4.1&nbsp;&nbsp;</span>Disponibilização</a></span></li></ul></li></ul></li><li><span><a href=\"#Extras\" data-toc-modified-id=\"Extras-7\"><span class=\"toc-item-num\">7&nbsp;&nbsp;</span>Extras</a></span><ul class=\"toc-item\"><li><span><a href=\"#Environments\" data-toc-modified-id=\"Environments-7.1\"><span class=\"toc-item-num\">7.1&nbsp;&nbsp;</span>Environments</a></span><ul class=\"toc-item\"><li><span><a href=\"#Criação-do-Environment\" data-toc-modified-id=\"Criação-do-Environment-7.1.1\"><span class=\"toc-item-num\">7.1.1&nbsp;&nbsp;</span>Criação do Environment</a></span></li><li><span><a href=\"#FAQ\" data-toc-modified-id=\"FAQ-7.1.2\"><span class=\"toc-item-num\">7.1.2&nbsp;&nbsp;</span>FAQ</a></span></li></ul></li><li><span><a href=\"#Jupyter-Notebooks\" data-toc-modified-id=\"Jupyter-Notebooks-7.2\"><span class=\"toc-item-num\">7.2&nbsp;&nbsp;</span>Jupyter Notebooks</a></span><ul class=\"toc-item\"><li><span><a href=\"#Ativar-extensões\" data-toc-modified-id=\"Ativar-extensões-7.2.1\"><span class=\"toc-item-num\">7.2.1&nbsp;&nbsp;</span>Ativar extensões</a></span></li></ul></li><li><span><a href=\"#Flask\" data-toc-modified-id=\"Flask-7.3\"><span class=\"toc-item-num\">7.3&nbsp;&nbsp;</span>Flask</a></span></li></ul></li></ul></div>"
   ]
  },
  {
   "cell_type": "markdown",
   "metadata": {},
   "source": [
    "## Principais Bibliotecas a Utilizar"
   ]
  },
  {
   "cell_type": "markdown",
   "metadata": {},
   "source": [
    "### Gerais"
   ]
  },
  {
   "cell_type": "code",
   "execution_count": null,
   "metadata": {},
   "outputs": [],
   "source": [
    "import math, time, random, datetime, sys, os"
   ]
  },
  {
   "cell_type": "markdown",
   "metadata": {},
   "source": [
    "### Manipulação de Dados"
   ]
  },
  {
   "cell_type": "code",
   "execution_count": null,
   "metadata": {},
   "outputs": [],
   "source": [
    "import numpy as np\n",
    "import pandas as pd"
   ]
  },
  {
   "cell_type": "markdown",
   "metadata": {},
   "source": [
    "### Visualização de Dados"
   ]
  },
  {
   "cell_type": "code",
   "execution_count": null,
   "metadata": {},
   "outputs": [],
   "source": [
    "import matplotlib.pyplot as plt\n",
    "import missingno\n",
    "import seaborn as sn\n",
    "plt.style.use('seaborn-whitegrid')"
   ]
  },
  {
   "cell_type": "markdown",
   "metadata": {},
   "source": [
    "### Pre Processing"
   ]
  },
  {
   "cell_type": "code",
   "execution_count": null,
   "metadata": {},
   "outputs": [],
   "source": [
    "from sklearn.preprocessing import OneHotEncoder, RobustScaler, StandardScaler, MinMaxScaler, LabelEncoder, label_binarize\n",
    "import category_encoders as ce"
   ]
  },
  {
   "cell_type": "markdown",
   "metadata": {},
   "source": [
    "### Algoritmos"
   ]
  },
  {
   "cell_type": "code",
   "execution_count": null,
   "metadata": {},
   "outputs": [],
   "source": [
    "import tensorflow as tf\n",
    "from tensorflow import keras\n",
    "from tensorflow.keras import layers\n",
    "from sklearn import model_selection, tree, preprocessing, metrics, linear_model\n",
    "from sklearn.svm import LinearSVC\n",
    "from sklearn.ensemble import GradientBoostingClassifier\n",
    "from sklearn.neighbors import KNeighborsClassifier\n",
    "from sklearn.naive_bayes import GaussianNB\n",
    "from sklearn.linear_model import LinearRegression, LogisticRegression, SGDClassifier\n",
    "from sklearn.tree import DecisionTreeClassifier\n",
    "from catboost import CatBoostClassifier, Pool, cv\n",
    "import xgboost as xgb"
   ]
  },
  {
   "cell_type": "markdown",
   "metadata": {},
   "source": [
    "## Importação de dados"
   ]
  },
  {
   "cell_type": "markdown",
   "metadata": {},
   "source": [
    "### Importar dados de um CSV"
   ]
  },
  {
   "cell_type": "code",
   "execution_count": null,
   "metadata": {},
   "outputs": [],
   "source": [
    "df = pd.read_csv('nome do csv')"
   ]
  },
  {
   "cell_type": "markdown",
   "metadata": {},
   "source": [
    "### Importar CSV da Google Drive para Google Collab"
   ]
  },
  {
   "cell_type": "code",
   "execution_count": null,
   "metadata": {},
   "outputs": [],
   "source": [
    "from google.colab import drive\n",
    "drive.mount('/content/drive')"
   ]
  },
  {
   "cell_type": "markdown",
   "metadata": {},
   "source": [
    "### Importar Dados do SQL Server"
   ]
  },
  {
   "cell_type": "code",
   "execution_count": null,
   "metadata": {},
   "outputs": [],
   "source": [
    "import pyodbc\n",
    "conn = pyodbc.connect('Driver={ODBC Driver 17 for SQL Server};'\n",
    "                      'Server=.;' \n",
    "                      'Database=db;'\n",
    "                      'UID=user;'\n",
    "                      'PWD=pass')\n",
    "df = pd.read_sql_query('SELECT * FROM  x',conn)"
   ]
  },
  {
   "cell_type": "markdown",
   "metadata": {},
   "source": [
    "## Analise Exploratória dos Dados (Pandas)"
   ]
  },
  {
   "cell_type": "code",
   "execution_count": null,
   "metadata": {},
   "outputs": [],
   "source": [
    "df.shape # nº de linhas, colunas\n",
    "df.info() # tipos de dados, e nº de NaN's\n",
    "pd.set_option('display.max_columns',df.shape[1])  # Para ver todas as colunas nos prints\n",
    "pd.set_option('display.max_rows',df.shape[0]) # Para ver todas as linhas nos prints\n",
    "df['coluna_x'].value_counts() # Numero distinto de valores numa coluna\n",
    "df['coluna_x'].isin([\"a\",\"b\"])\n",
    "df['coluna_x'].str.contains(\"asd\")\n",
    "df.columns = df.columns.str.replace(\"_\",\" \")\n",
    "df.drop(columns = [\"a\",\"b\"])\n",
    "df.sort_values(by=[\"first\",\"last\"], ascending=[False,True])"
   ]
  },
  {
   "cell_type": "markdown",
   "metadata": {},
   "source": [
    "## Pre Processing & Feature Engineering"
   ]
  },
  {
   "cell_type": "markdown",
   "metadata": {},
   "source": [
    "### Converter Colunas para Float"
   ]
  },
  {
   "cell_type": "code",
   "execution_count": null,
   "metadata": {},
   "outputs": [],
   "source": [
    "df = df.apply(pd.to_numeric, errors='ignore')"
   ]
  },
  {
   "cell_type": "markdown",
   "metadata": {},
   "source": [
    "### Lidar com Missing Values"
   ]
  },
  {
   "cell_type": "code",
   "execution_count": null,
   "metadata": {},
   "outputs": [],
   "source": [
    "df = df.fillna(df.median())\n",
    "df = df.dropna()"
   ]
  },
  {
   "cell_type": "markdown",
   "metadata": {},
   "source": [
    "### Log Transformation"
   ]
  },
  {
   "cell_type": "code",
   "execution_count": 4,
   "metadata": {},
   "outputs": [],
   "source": [
    "def logtransform(df,target_col, new_cols = False):\n",
    "  for col in df.columns:\n",
    "    if (df[col].dtype == np.float64) & (col != target_col):\n",
    "      if new_cols == True:\n",
    "        df[\"LOG_\"+col] = np.log1p(df[col])\n",
    "      else:\n",
    "        df[col] = np.log1p(df[col])"
   ]
  },
  {
   "cell_type": "markdown",
   "metadata": {},
   "source": [
    "### Square Transformation"
   ]
  },
  {
   "cell_type": "code",
   "execution_count": null,
   "metadata": {},
   "outputs": [],
   "source": [
    "def squaredtransform(df,target_col, new_cols = False):\n",
    "  for col in df.columns:\n",
    "    if (df[col].dtype == np.float64) & (col != target_col):\n",
    "        if new_cols == True:\n",
    "            df[\"SQR_\"+col] = df[col] * df[col]\n",
    "        else:\n",
    "            df[col] = np.log1p(df[col])"
   ]
  },
  {
   "cell_type": "markdown",
   "metadata": {},
   "source": [
    "### Tratamento de Outliers"
   ]
  },
  {
   "cell_type": "code",
   "execution_count": null,
   "metadata": {},
   "outputs": [],
   "source": [
    "def outliercut(df,y)\n",
    "    #calculate interquartile range\n",
    "    q25 = percentile(df[y], 25)\n",
    "    q75 = percentile(df[y], 75)\n",
    "    iqr = q75 - q25\n",
    "    print('Percentiles: 25th=%.3f, 75th=%.3f, IQR=%.3f' % (q25, q75, iqr))\n",
    "    #calculate the outlier cutoff\n",
    "    cut_off = iqr * 1.5\n",
    "    lower = q25 - cut_off\n",
    "    upper = q72 + cut_off\n",
    "    #Apagar outliers\n",
    "    df = df[ (df[y] >= lower) &  (df[y] <=  upper) ] "
   ]
  },
  {
   "cell_type": "markdown",
   "metadata": {},
   "source": [
    "### Gerar colunas de data do formato AAAAMMDD para 4 colunas de Ano, Mes, Semana, Dia da Semana"
   ]
  },
  {
   "cell_type": "code",
   "execution_count": null,
   "metadata": {},
   "outputs": [],
   "source": [
    "def gerarcolsdata(df, cols, ApagarColunaOrig = True):   \n",
    "  for col in cols:\n",
    "    # Converter para datetime\n",
    "    df[col] = pd.to_datetime(df[col],format = '%Y%m%d',errors = 'coerce')\n",
    "    #Gerar as várias colunas\n",
    "    df[col+'_Year'] = df[col].dt.year\n",
    "    df[col+'_Month'] = df[col].dt.month\n",
    "    df[col+'_Week'] = df[col].dt.week\n",
    "    df[col+'_DayofWeek'] = df[col].dt.dayofweek\n",
    "    # Apagar coluna original\n",
    "    if ApagarColunaOrig == True:\n",
    "      df = df.drop(col,1)    "
   ]
  },
  {
   "cell_type": "markdown",
   "metadata": {},
   "source": [
    "### One Hot Encoding"
   ]
  },
  {
   "cell_type": "code",
   "execution_count": null,
   "metadata": {},
   "outputs": [],
   "source": [
    "cols = df.select_dtypes('object').columns\n",
    "def onehotencode(df,cols):\n",
    "    for col in cols:\n",
    "        df = pd.get_dummies(df, columns=col, prefix = [col+'_'])"
   ]
  },
  {
   "cell_type": "markdown",
   "metadata": {},
   "source": [
    "### Target Encoding (para colunas que geram elevada dimensionalidade)"
   ]
  },
  {
   "cell_type": "code",
   "execution_count": null,
   "metadata": {},
   "outputs": [],
   "source": [
    "cols = df.select_dtypes('object').columns # ou colocar [colunas a fazer encoding]\n",
    "encoder = ce.TargetEncoder(cols=cols, smoothing=0)\n",
    "encoder.fit(df, df['y'])\n",
    "df = encoder.transform(df)"
   ]
  },
  {
   "cell_type": "markdown",
   "metadata": {},
   "source": [
    "### Feature Scaling"
   ]
  },
  {
   "cell_type": "code",
   "execution_count": null,
   "metadata": {},
   "outputs": [],
   "source": [
    "cols = df.select_dtypes('float').columns # ou [\"inserir colunas\"]\n",
    "scaler = RobustScaler() # Escolher o scaler (RobustScaler, StandardScaler, MinMaxScaler etc)\n",
    "df[cols] = scaler.fit_transform(df[cols])"
   ]
  },
  {
   "cell_type": "markdown",
   "metadata": {},
   "source": [
    "## Treinar Algoritmos"
   ]
  },
  {
   "cell_type": "markdown",
   "metadata": {},
   "source": [
    "### Exemplo Básico"
   ]
  },
  {
   "cell_type": "code",
   "execution_count": null,
   "metadata": {},
   "outputs": [],
   "source": [
    "# Separar Dataset em Feature Attributes (X) e Target (y):\n",
    "X = df.drop([\"Y\"],axis = 1) # Todas as features\n",
    "y = df[\"Y\"].copy()\n",
    "\n",
    "# Criar Dataset treino e teste\n",
    "X_train, X_test, Y_train, Y_test = train_test_split(X, y, test_size=0.20, random_state=1)\n",
    "\n",
    "# Treino e avaliação do Algoritmo\n",
    "model = LinearRegression() # Colocar algoritmo pretendido\n",
    "model.fit(X_train,Y_train)\n",
    "MAE_Train = mean_absolute_error(model.predict(X_train), Y_train)\n",
    "MAE_Test = mean_absolute_error(model.predict(X_test), Y_test)"
   ]
  },
  {
   "cell_type": "markdown",
   "metadata": {},
   "source": [
    "### Uso de Cross Validation"
   ]
  },
  {
   "cell_type": "code",
   "execution_count": null,
   "metadata": {},
   "outputs": [],
   "source": [
    "# Iniciar Cross Validation\n",
    "cv = KFold(n_splits=10, random_state=1, shuffle=True)\n",
    "#ou Repeated Cross Validation para minimizar ruido\n",
    "cv = RepeatedKFold(n_splits=10, n_repeats=3, random_state=1)\n",
    "# evaluate model\n",
    "scores = cross_val_score(model, X, y, scoring='accuracy', cv=cv, n_jobs=-1)\n",
    "# https://scikit-learn.org/stable/modules/model_evaluation.html   -> ver mais scorings disponiveis \n",
    "\n",
    "# report performance\n",
    "print('Accuracy: %.3f (%.3f)' % (mean(scores), std(scores)))"
   ]
  },
  {
   "cell_type": "markdown",
   "metadata": {},
   "source": [
    "### Iteração sobre vários algoritmos"
   ]
  },
  {
   "cell_type": "code",
   "execution_count": null,
   "metadata": {},
   "outputs": [],
   "source": [
    "# Preparar Algoritmos\n",
    "models = []\n",
    "models.append(('SVM', LinearSVC()))\n",
    "models.append(('Random Forest', RandomForestRegressor()))\n",
    "\n",
    "# Avaliar Algoritmos\n",
    "results = []\n",
    "names = []\n",
    "scoring = 'neg_mean_absolute_error'\n",
    "\n",
    "for name, model in models:\n",
    "\tkfold = model_selection.KFold(n_splits=3) # Tipo de Cross Validation a fazer\n",
    "\tcv_results = model_selection.cross_val_score(model, X_train, Y_train, cv=kfold, scoring=scoring)\n",
    "\tresults.append(cv_results)\n",
    "\tnames.append(name)\n",
    "\tmsg = \"%s: %f (%f)\" % (name, cv_results.mean(), cv_results.std())\n",
    "\tprint(msg)"
   ]
  },
  {
   "cell_type": "markdown",
   "metadata": {},
   "source": [
    "## Deployment da Solução"
   ]
  },
  {
   "cell_type": "markdown",
   "metadata": {},
   "source": [
    "###  Pickle"
   ]
  },
  {
   "cell_type": "markdown",
   "metadata": {},
   "source": [
    "Pickle is used for serializing and de-serializing Python object structures, also called marshalling or flattening. Serialization refers to the process of converting an object in memory to a byte stream that can be stored on disk or sent over a network. Later on, this character stream can then be retrieved and de-serialized back to a Python object. \n",
    "Pickling is useful for applications where you need some degree of persistency in your data."
   ]
  },
  {
   "cell_type": "code",
   "execution_count": null,
   "metadata": {},
   "outputs": [],
   "source": [
    "import pickle\n",
    "Pkl_Filename = \"Pickle_RL_Model.pkl\"  \n",
    "# Gravar o modelo\n",
    "with open(Pkl_Filename, 'wb') as file:  \n",
    "    pickle.dump(model, file)\n",
    "# Fazer load do modelo gravado\n",
    "with open(Pkl_Filename, 'rb') as file:  \n",
    "    model = pickle.load(file)"
   ]
  },
  {
   "cell_type": "markdown",
   "metadata": {},
   "source": [
    "### Joblib"
   ]
  },
  {
   "cell_type": "markdown",
   "metadata": {},
   "source": [
    "Preferível quando se pretende fazer pickle de arrays de elevada dimensão."
   ]
  },
  {
   "cell_type": "code",
   "execution_count": null,
   "metadata": {},
   "outputs": [],
   "source": [
    "from sklearn.externals import joblib\n",
    "# Gravar o modelo\n",
    "joblib_file = \"joblib_RL_Model.pkl\"  \n",
    "joblib.dump(model, joblib_file)\n",
    "\n",
    "# Depois para fazer load do modelo:\n",
    "joblib_LR_model = joblib.load(joblib_file)"
   ]
  },
  {
   "cell_type": "markdown",
   "metadata": {},
   "source": [
    "### Modelo Tensorflow (c/ Flask)"
   ]
  },
  {
   "cell_type": "markdown",
   "metadata": {},
   "source": [
    "A forma mais simples rápida e eficaz de fazer deploy é utilizando o flask como web app para fazer a ligação ao modelo treinado.\n",
    "Para modelos mais complexos e com milhares de utilizadores a aceder é preferivel usar uma solução mais robusta (gpu acceleration) com Keras.js e Tensorflow Serving."
   ]
  },
  {
   "cell_type": "code",
   "execution_count": null,
   "metadata": {},
   "outputs": [],
   "source": [
    "# Exportação do JSON com a arquitetura do modelo\n",
    "model_json = model.to_json()\n",
    "with open(\"model.json\", \"w\") as json_file:\n",
    "    json_file.write(model_json)\n",
    "    \n",
    "# Exportação do HDF5 com os pesos treinados pelo modelo\n",
    "model.save_weights(\"model.h5\")\n",
    "print(\"Saved model to disk\")\n",
    "\n",
    "# No Flask fazer load do modelo \n",
    "json_file = open('model.json','r')\n",
    "loaded_model_json = json_file.read()\n",
    "json_file.close()\n",
    "loaded_model = model_from_json(loaded_model_json)\n",
    "\n",
    "#load weights into new model\n",
    "loaded_model.load_weights(\"model.h5\")\n",
    "print(\"Loaded Model from disk\")\n",
    "\n",
    "#compile and evaluate loaded model\n",
    "loaded_model.compile(loss='mean_absolute_error',optimizer='adam')\n",
    "graph = tf.get_default_graph()"
   ]
  },
  {
   "cell_type": "markdown",
   "metadata": {},
   "source": [
    "### Gradio"
   ]
  },
  {
   "cell_type": "markdown",
   "metadata": {},
   "source": [
    "Gradio can be embedded in Python notebooks or presented as a webpage. A Gradio interface can automatically generate a public link you can share with colleagues that lets them interact with the model on your computer remotely from their own devices."
   ]
  },
  {
   "cell_type": "code",
   "execution_count": null,
   "metadata": {},
   "outputs": [],
   "source": [
    "def predict_price(ABT, LOR, VECHICLE_CLUSTER,CLIENT_TYPE): # aqui estao as variaveis que o user vai explorar no front end\n",
    "    df = pd.DataFrame.from_dict({'VECHICLE_CLUSTER': VECHICLE_CLUSTER,'CLIENT_TYPE': CLIENT_TYPE,'ABT': ABT,'LOR': LOR}, orient = 'index')\n",
    "    df = df.transpose()\n",
    "            \n",
    "    # Fazer load do model.pkl\n",
    "    model = pickle.load(open(r'C:\\Users\\B2F\\Documents\\ML Sixt\\SIXT_XGBoost.pkl', 'rb'))\n",
    "    # Gerar previsões\n",
    "    pred = model.predict(df)\n",
    "    prediction = str(round(pred[0],2)) +' €'\n",
    "    return   prediction, img \n",
    "\n",
    "# Configurar Visuais de Input\n",
    "ABT = gr.inputs.Slider(minimum=0, maximum=200, default=25, label=\"Average Booking Time (ABT)\")\n",
    "LOR = gr.inputs.Slider(minimum=0, maximum=200, default=10, label=\"Length of Rental (LOR)\")\n",
    "VECHICLE_CLUSTER = gr.inputs.Dropdown(['Premium','Mini/Económicos','Automáticos','Standard','Full Size','Cabrio','7/9 Lugares','N/A','Truck & vans','Compactos','Extraordinary'], label=\"Cluster do Veículo\")\n",
    "CLIENT_TYPE = gr.inputs.Radio(['Outros','Leisure','Corporate Nacional','Grupo JAP','Limousine','Retail','Corporate Internacional'], label=\"Tipo de Cliente\")\n",
    "# Configurar Visuais de Output\n",
    "output = gr.outputs.Textbox(type=\"auto\", label=\"Preço Ótimo Estimado para a sua Reserva:\")\n",
    "#Configurar Interface Final e fazer launch\n",
    "gr.Interface(predict_price, inputs = [ABT, LOR, VECHICLE_CLUSTER, CLIENT_TYPE], outputs = [output], title = 'SIXT Pricing Otimization w/ Machine Learning').launch()"
   ]
  },
  {
   "cell_type": "markdown",
   "metadata": {},
   "source": [
    "#### Disponibilização"
   ]
  },
  {
   "cell_type": "markdown",
   "metadata": {},
   "source": [
    "Para testar o modelo e deixar os users experimentar e dar feedback basta acrescentar:"
   ]
  },
  {
   "cell_type": "code",
   "execution_count": null,
   "metadata": {},
   "outputs": [],
   "source": [
    "gr.Interface(predict_price, inputs = [ABT, LOR, VECHICLE_CLUSTER, CLIENT_TYPE], outputs = [output], title = 'SIXT Pricing Otimization w/ Machine Learning').launch(share=True)"
   ]
  },
  {
   "cell_type": "markdown",
   "metadata": {},
   "source": [
    "## Extras"
   ]
  },
  {
   "cell_type": "markdown",
   "metadata": {},
   "source": [
    "### Environments "
   ]
  },
  {
   "cell_type": "markdown",
   "metadata": {},
   "source": [
    "#### Criação do Environment"
   ]
  },
  {
   "cell_type": "markdown",
   "metadata": {},
   "source": [
    "__1) Criar uma pasta de Environments caso ainda não exista:__\n",
    "\n",
    "cd \"mudar para o path onde queremos criar a pasta\"\n",
    "mkdir Environments\n",
    "\n",
    "__2) Criar o Environment para o projeto__\n",
    "\n",
    "python -m venv nomedoprojeto_env\n",
    "\n",
    "__3) Activar o Environment__\n",
    "\n",
    "cd Environments\n",
    "nomedoprojeto_env\\Scripts\\activate.bat"
   ]
  },
  {
   "cell_type": "markdown",
   "metadata": {},
   "source": [
    "#### FAQ"
   ]
  },
  {
   "cell_type": "markdown",
   "metadata": {},
   "source": [
    "__Como saber em que environment estamos?__\n",
    "where python\n",
    "\n",
    "__Que modulos estão instalados no environment?__\n",
    "pip list\n",
    "\n",
    "__Como exportar um ficheiro com os modulos instaladas no environment?__\n",
    "pip freeze\n",
    "copiar o conteudo e por na num ficheiro requirements.txt\n",
    "\n",
    "Depois podes mudar para outro environment e instalar os packages de outro environment:\n",
    "pip install -r requirements.txt\n",
    "\n",
    "__Como voltar para o environment global?__\n",
    "deactivate\n",
    "\n",
    "__Como apagar um environment?__\n",
    "rmdir nomedoprojeto /s "
   ]
  },
  {
   "cell_type": "markdown",
   "metadata": {},
   "source": [
    "### Jupyter Notebooks"
   ]
  },
  {
   "cell_type": "markdown",
   "metadata": {},
   "source": [
    "#### Ativar extensões"
   ]
  },
  {
   "cell_type": "code",
   "execution_count": null,
   "metadata": {},
   "outputs": [],
   "source": [
    "! pip install jupyter_contrib_nbextensions\n",
    "! jupyter contrib nbextension install --system"
   ]
  },
  {
   "cell_type": "markdown",
   "metadata": {},
   "source": [
    "Na tab NBextensions instalar as extensões Hinterland para autocomplete de código e table of contents para facilitar navegação pelo código.\n",
    "Para ver os atalhos de teclado no Jupyter Notebook, carregar na tecla H. "
   ]
  },
  {
   "cell_type": "markdown",
   "metadata": {},
   "source": [
    "### Flask"
   ]
  }
 ],
 "metadata": {
  "kernelspec": {
   "display_name": "Python 3",
   "language": "python",
   "name": "python3"
  },
  "language_info": {
   "codemirror_mode": {
    "name": "ipython",
    "version": 3
   },
   "file_extension": ".py",
   "mimetype": "text/x-python",
   "name": "python",
   "nbconvert_exporter": "python",
   "pygments_lexer": "ipython3",
   "version": "3.8.3"
  },
  "toc": {
   "base_numbering": "1",
   "nav_menu": {},
   "number_sections": true,
   "sideBar": true,
   "skip_h1_title": true,
   "title_cell": "Table of Contents",
   "title_sidebar": "Contents",
   "toc_cell": true,
   "toc_position": {
    "height": "calc(100% - 180px)",
    "left": "10px",
    "top": "150px",
    "width": "313.188px"
   },
   "toc_section_display": true,
   "toc_window_display": true
  }
 },
 "nbformat": 4,
 "nbformat_minor": 4
}
